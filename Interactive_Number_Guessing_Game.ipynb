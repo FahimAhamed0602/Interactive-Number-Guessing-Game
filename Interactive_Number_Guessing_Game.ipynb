{
  "nbformat": 4,
  "nbformat_minor": 0,
  "metadata": {
    "colab": {
      "private_outputs": true,
      "provenance": []
    },
    "kernelspec": {
      "name": "python3",
      "display_name": "Python 3"
    },
    "language_info": {
      "name": "python"
    }
  },
  "cells": [
    {
      "cell_type": "code",
      "execution_count": null,
      "metadata": {
        "id": "qub0UMKgQ2GH"
      },
      "outputs": [],
      "source": [
        "import random  # Importing the random module to generate random numbers\n",
        "\n",
        "flag = True  # Flag to control the first input loop\n",
        "nflag = True  # Flag to control the second input loop\n",
        "\n",
        "# Loop to get the lowest range value from the user\n",
        "while flag:\n",
        "    low = input(\"Type the number for the first LOWEST RANGE: \")\n",
        "    if low.isdigit():  # Check if the input is a digit\n",
        "        low = int(low)  # Convert the input to an integer\n",
        "        flag = False  # Exit the loop if the input is valid\n",
        "    else:\n",
        "        print(\"INPUT IS NOT RIGHT.. TRY AGAIN PLEASE WITH A NUMBER..\")\n",
        "\n",
        "# Loop to get the highest range value from the user\n",
        "while nflag:\n",
        "    num = input(\"Type the number for the first HIGHEST RANGE: \")\n",
        "    if num.isdigit():  # Check if the input is a digit\n",
        "        print(\"GAME STARTED!! \")\n",
        "        num = int(num)  # Convert the input to an integer\n",
        "        nflag = False  # Exit the loop if the input is valid\n",
        "    else:\n",
        "        print(\"INPUT IS NOT RIGHT.. TRY AGAIN PLEASE WITH NUMBERS..\")\n",
        "\n",
        "secret = random.randint(low, num)  # Generate a random number within the specified range\n",
        "guess = None  # Initialize the guess variable\n",
        "count = 1  # Initialize a counter for tracking guesses (not used in this code)\n",
        "gCount = 0  # Initialize a counter for the number of guesses made\n",
        "fLimit = False  # Flag to control the input attempts (not used in this code)\n",
        "tflag = True  # Flag to control the try input loop\n",
        "\n",
        "# Loop to get the number of tries from the user\n",
        "while tflag:\n",
        "    z = input(\"Please input number of tries: \")\n",
        "    if z.isdigit():  # Check if the input is a digit\n",
        "        z = int(z)  # Convert the input to an integer\n",
        "        tflag = False  # Exit the loop if the input is valid\n",
        "    else:\n",
        "        print(\"Number is Not IN RANGE\")\n",
        "\n",
        "# Loop for the guessing game\n",
        "while guess != secret:\n",
        "    gCount += 1  # Increment the guess counter\n",
        "    guess = input(\"Please type again number between \" + str(low) + \" and \" + str(num) + \" : \")\n",
        "\n",
        "    if gCount == z:  # Check if the number of tries has been exhausted\n",
        "        print(\"You lose. OUT OF TRY\")\n",
        "        break  # Exit the loop if the tries are exhausted\n",
        "\n",
        "    if guess.isdigit():  # Check if the guess is a digit\n",
        "        guess = int(guess)  # Convert the guess to an integer\n",
        "\n",
        "        if guess > num or guess < low:  # Check if the guess is within the range\n",
        "            print(\"Number is Not IN RANGE\")\n",
        "        elif guess == secret:  # Check if the guess is correct\n",
        "            print(\"CONGRATULATIONS!! YOU ARE RIGHT\")\n",
        "    else:\n",
        "        if guess.isalpha():  # Check if the input is alphabetic\n",
        "            print(\"Number not Alphabet!!!!\")\n",
        "        else:\n",
        "            print(\"Please Give Number Not anything else\")\n"
      ]
    }
  ]
}